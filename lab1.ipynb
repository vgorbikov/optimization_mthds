{
  "nbformat": 4,
  "nbformat_minor": 0,
  "metadata": {
    "colab": {
      "provenance": [],
      "authorship_tag": "ABX9TyN046vL4HgRTpLXF6kGkhzC",
      "include_colab_link": true
    },
    "kernelspec": {
      "name": "python3",
      "display_name": "Python 3"
    },
    "language_info": {
      "name": "python"
    }
  },
  "cells": [
    {
      "cell_type": "markdown",
      "metadata": {
        "id": "view-in-github",
        "colab_type": "text"
      },
      "source": [
        "<a href=\"https://colab.research.google.com/github/vgorbikov/optimization_mthds/blob/main/lab1.ipynb\" target=\"_parent\"><img src=\"https://colab.research.google.com/assets/colab-badge.svg\" alt=\"Open In Colab\"/></a>"
      ]
    },
    {
      "cell_type": "markdown",
      "source": [
        "# Методы оптимизации. Лабораторная работа №1\n",
        "\n",
        "**Вариант 8**:\\\n",
        "**а.** Найти интервалы монотонности и точки экстремума следующей функции:\\\n",
        "$f(x)=\\frac{x^2}{1+x^2}$\n",
        "\n",
        "**б.** Методом Фибоначчи найти точку минимума $𝑥_∗$ функции $𝑓(𝑥)$ на отрезке $[𝑎, 𝑏]$ с точностью 𝜀 и минимальное значение $𝑓_∗$:\\\n",
        "$f(x) = (x+1)^4 - 2x^2$, $[a,b]=[-3,-1]$, $\\epsilon=0.01$\n",
        "\n",
        "----"
      ],
      "metadata": {
        "id": "AyLj15glo_KZ"
      }
    },
    {
      "cell_type": "markdown",
      "source": [
        "## Решение\n",
        "\n",
        "**а.**\n",
        "Найдём точки экстремума и интервалы монотонности аналитически.\n",
        "Для этого возьмём производную функции:\n",
        "$f'(x) = (\\frac{x^2}{1+x^2})'$\\\n",
        "$f'(x) = \\frac{2x(1+x^2)-2x^3}{(1+x^2)^2}$\\\n",
        "$f'(x) = \\frac{2x}{(1+x^2)^2}$\n",
        "\n",
        "Видно, что в точке $x=0$ производная обращается в ноль. Это и есть экстремальная точка.\n",
        "\n",
        "При $x>0$ производная принимает положительный знак, а при $x<0$ - отрицательный.\n",
        "Значит на интервале $(-\\infty, 0)$ функция убывает, а на $(0, \\infty)$ - возрастает.\n"
      ],
      "metadata": {
        "id": "6K3_LfU1zbC0"
      }
    },
    {
      "cell_type": "markdown",
      "source": [
        "**б**:\\\n",
        "вы"
      ],
      "metadata": {
        "id": "GP1mh8yJ-YAI"
      }
    },
    {
      "cell_type": "code",
      "source": [
        "# исследуемая функция\n",
        "target_f = lambda x: (x+1)**4 - 2*x**2"
      ],
      "metadata": {
        "id": "nMmqj7q8_4Vi"
      },
      "execution_count": 3,
      "outputs": []
    },
    {
      "cell_type": "code",
      "source": [
        "# генератор последовательности Фибоначчи\n",
        "def feb_gen(n: int):\n",
        "    '''\n",
        "    n - кол-во элементов последовательности\n",
        "    '''\n",
        "    def gen():\n",
        "        num = 1\n",
        "        pre_num = 0\n",
        "        i = 0\n",
        "        while i<n:\n",
        "            yield num\n",
        "            i += 1\n",
        "            tmp = num\n",
        "            num += pre_num\n",
        "            pre_num = tmp\n",
        "    return gen()"
      ],
      "metadata": {
        "id": "A9el9NMs_AK1"
      },
      "execution_count": 4,
      "outputs": []
    },
    {
      "cell_type": "code",
      "execution_count": 10,
      "metadata": {
        "id": "RqJNc7CVi0D_"
      },
      "outputs": [],
      "source": [
        "def fbn_method(ff, a: float, b: float, n: int) -> dict:\n",
        "    '''\n",
        "    Найти максимум функции f(x) по методу Фибоначчи\\n\n",
        "    Для поиска минимума, передайте функцию -f(x)\n",
        "    '''\n",
        "    f = lambda x: -ff(x)\n",
        "    i = 1\n",
        "    fnums = [float(i) for i in feb_gen(n+1)]\n",
        "\n",
        "    l = (b-a)\n",
        "\n",
        "    xl = a + (fnums[-3]/fnums[-1])*l\n",
        "    xr = a + (fnums[-2]/fnums[-1])*l\n",
        "    yl = f(xl)\n",
        "    yr = f(xr)\n",
        "\n",
        "    while (i<=n-1):\n",
        "        if yl<yr:\n",
        "            a = xl\n",
        "            l = (b-a)\n",
        "            xl = xr\n",
        "            yl = yr\n",
        "            xr = a + (fnums[-i-1]/fnums[-i])*l\n",
        "            yr = f(xr)\n",
        "        elif yr<yl:\n",
        "            b = xr\n",
        "            l = (b-a)\n",
        "            xr = xl\n",
        "            yr = yl\n",
        "            xl = a + (fnums[-i-2]/fnums[-i])*l\n",
        "            yl = f(xl)\n",
        "        else:\n",
        "            a = xl\n",
        "            b = xr\n",
        "            l = (b-a)\n",
        "            xl = a + (fnums[-3]/fnums[-1])*l\n",
        "            xr = a + (fnums[-2]/fnums[-1])*l\n",
        "            yl = f(xl)\n",
        "            yr = f(xr)\n",
        "        i += 1\n",
        "\n",
        "    return {\n",
        "        \"xm\": (a+b)/2,\n",
        "        \"ym\": f((a+b)/2),\n",
        "        \"accuracy\": b-a\n",
        "    }"
      ]
    },
    {
      "cell_type": "code",
      "source": [
        "print(fbn_method(target_f, -3, -1, 15))"
      ],
      "metadata": {
        "colab": {
          "base_uri": "https://localhost:8080/"
        },
        "id": "w3rQ4a5GBTCq",
        "outputId": "6612ed35-222e-44d5-9929-f53d8f2762a9"
      },
      "execution_count": 14,
      "outputs": [
        {
          "output_type": "stream",
          "name": "stdout",
          "text": [
            "{'xm': -2.3249841803807003, 'ym': 7.72903093337128, 'accuracy': 0.002504727692473896}\n"
          ]
        }
      ]
    }
  ]
}